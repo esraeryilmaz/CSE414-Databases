{
 "cells": [
  {
   "cell_type": "code",
   "execution_count": 1,
   "id": "0cc819a5",
   "metadata": {},
   "outputs": [],
   "source": [
    "# Connecting to a Microsoft SQL Server with pyodbc\n",
    "import pyodbc"
   ]
  },
  {
   "cell_type": "code",
   "execution_count": 2,
   "id": "336db30d",
   "metadata": {},
   "outputs": [
    {
     "data": {
      "text/plain": [
       "['Driver da Microsoft para arquivos texto (*.txt; *.csv)',\n",
       " 'Driver do Microsoft Access (*.mdb)',\n",
       " 'Driver do Microsoft dBase (*.dbf)',\n",
       " 'Driver do Microsoft Excel(*.xls)',\n",
       " 'Driver do Microsoft Paradox (*.db )',\n",
       " 'Microsoft Access Driver (*.mdb)',\n",
       " 'Microsoft Access-Treiber (*.mdb)',\n",
       " 'Microsoft dBase Driver (*.dbf)',\n",
       " 'Microsoft dBase-Treiber (*.dbf)',\n",
       " 'Microsoft Excel Driver (*.xls)',\n",
       " 'Microsoft Excel-Treiber (*.xls)',\n",
       " 'Microsoft ODBC for Oracle',\n",
       " 'Microsoft Paradox Driver (*.db )',\n",
       " 'Microsoft Paradox-Treiber (*.db )',\n",
       " 'Microsoft Text Driver (*.txt; *.csv)',\n",
       " 'Microsoft Text-Treiber (*.txt; *.csv)',\n",
       " 'SQL Server',\n",
       " 'SQL Server Native Client 11.0',\n",
       " 'ODBC Driver 17 for SQL Server']"
      ]
     },
     "execution_count": 2,
     "metadata": {},
     "output_type": "execute_result"
    }
   ],
   "source": [
    "pyodbc.drivers()"
   ]
  },
  {
   "cell_type": "code",
   "execution_count": 3,
   "id": "5f9afe5a",
   "metadata": {},
   "outputs": [],
   "source": [
    "# define the server and the database\n",
    "server = 'ESRA' \n",
    "database = 'PharmacySystem'  \n",
    "\n",
    "# Define the connection string\n",
    "conx = pyodbc.connect(\n",
    "                    'DRIVER={SQL Server}; \\\n",
    "                    SERVER='+ server +'; \\\n",
    "                    DATABASE='+ database +';\\\n",
    "                    Trusted_Connection=yes;'\n",
    ")"
   ]
  },
  {
   "cell_type": "code",
   "execution_count": 4,
   "id": "665b3871",
   "metadata": {},
   "outputs": [],
   "source": [
    "# conx = pyodbc.connect('DRIVER={SQL Server}; SERVER=ESRA; Database=deneme; TRUSTED_CONNECTION=yes')\n",
    "conx_string = \"driver={SQL SERVER}; server=ESRA; database=PharmacySystem; trusted_connection=YES;\""
   ]
  },
  {
   "cell_type": "code",
   "execution_count": 5,
   "id": "976acaaf",
   "metadata": {},
   "outputs": [],
   "source": [
    "query1 = \"SELECT MEDICINE.Barcode, MEDICINE.Name, MEDICINE.Description FROM MEDICINE\"\n",
    "query2 = \"SELECT * FROM PHARMACY\"\n",
    "query3 = \"SELECT * FROM MEDICINE\"\n",
    "query4 = \"SELECT * FROM EMPLOYEE\"\n",
    "query5 = \"SELECT * FROM COMPANY\"\n",
    "query6 = \"SELECT * FROM DOCTOR\"\n",
    "query7 = \"SELECT * FROM CUSTOMER\"\n",
    "query8 = \"SELECT MEDICINE.Name FROM MEDICINE LEFT JOIN PRODUCTION ON MEDICINE.Barcode = PRODUCTION. Barcode Where PRODUCTION.Last_use_date <'2025-05-05'\"\n",
    "query9 = \"CREATE VIEW view1 AS SELECT DOCTOR.D_name, DOCTOR.D_surname, DOCTOR.D_phone, DOCTOR.Speciality, CUSTOMER.C_name, CUSTOMER.C_address, CUSTOMER.C_phone FROM DOCTOR, CUSTOMER WHERE DOCTOR.Doctor_id = CUSTOMER.DoctorID\"\n",
    "\n",
    "query10 = \"SELECT * FROM view1;\""
   ]
  },
  {
   "cell_type": "markdown",
   "id": "52e9dc7e",
   "metadata": {},
   "source": [
    "### first query example "
   ]
  },
  {
   "cell_type": "code",
   "execution_count": 6,
   "id": "76e77f60",
   "metadata": {},
   "outputs": [
    {
     "name": "stdout",
     "output_type": "stream",
     "text": [
      "(100, 'Advil', 'ağrı kesici')\n",
      "(101, 'Sebamed', 'cilt bakım')\n",
      "(102, 'Aerius', 'alerji hapı')\n",
      "(103, 'Nexium', 'mide ilacı')\n",
      "(104, 'Norvasc', 'tansiyon ilacı')\n",
      "(105, 'Perebron', 'öksürük şurubu')\n",
      "(106, 'Metpamid', 'bulantı şurubu')\n",
      "(107, 'Naprosyn', 'romatizma ilacı')\n",
      "(108, 'Aspirin', 'ağrı kesici')\n",
      "(109, 'Corasbin', 'kan sulandırıcı')\n",
      "(110, 'Voltaren Emulgel', 'romatizma ilacı')\n",
      "(111, 'Ocuvite Complete', 'göz vitamini')\n",
      "(112, 'Otrivin', 'burun spreyi')\n",
      "(113, 'Benexol b12', 'vitamin ilacı')\n",
      "(114, 'Asiviral Krem', 'uçuk kremi')\n",
      "(115, 'Terramycin', 'yara merhemi')\n",
      "(116, 'Siprogut', 'kulak damlası')\n",
      "(117, 'Glifor', 'şeker ilacı')\n",
      "(118, 'Ritalin', 'uyuşturucu')\n",
      "(119, 'Medikinet Retart', 'uyuşturucu')\n",
      "(120, 'Prozac', 'sakinleştirici')\n"
     ]
    }
   ],
   "source": [
    "conx = pyodbc.connect(conx_string)\n",
    "cursor = conx.cursor()\n",
    "cursor.execute(query1)\n",
    "data = cursor.fetchall()\n",
    "\n",
    "for d in data:\n",
    "    print(d)"
   ]
  },
  {
   "cell_type": "markdown",
   "id": "7c9a23c9",
   "metadata": {},
   "source": [
    "### PHARMACY "
   ]
  },
  {
   "cell_type": "code",
   "execution_count": 7,
   "id": "af6d0e05",
   "metadata": {},
   "outputs": [
    {
     "name": "stdout",
     "output_type": "stream",
     "text": [
      "(1, 'Esra Eczanesi', '0216900', 'İstanbul', 'Çamlıca Caddesi')\n"
     ]
    }
   ],
   "source": [
    "conx = pyodbc.connect(conx_string)\n",
    "cursor = conx.cursor()\n",
    "cursor.execute(query2)\n",
    "data = cursor.fetchall()\n",
    "\n",
    "for d in data:\n",
    "    print(d)"
   ]
  },
  {
   "cell_type": "markdown",
   "id": "25a1bb63",
   "metadata": {},
   "source": [
    "### MEDICINE"
   ]
  },
  {
   "cell_type": "code",
   "execution_count": 8,
   "id": "28984bf7",
   "metadata": {},
   "outputs": [
    {
     "name": "stdout",
     "output_type": "stream",
     "text": [
      "(100, 'Advil', 6.0, True, 'ağrı kesici', 'tablet', 35, 1)\n",
      "(101, 'Sebamed', 40.0, True, 'cilt bakım', 'krem', 15, 1)\n",
      "(102, 'Aerius', 10.0, True, 'alerji hapı', 'tablet', 25, 1)\n",
      "(103, 'Nexium', 20.0, True, 'mide ilacı', 'tablet', 20, 1)\n",
      "(104, 'Norvasc', 15.0, True, 'tansiyon ilacı', 'tablet', 10, 1)\n",
      "(105, 'Perebron', 9.0, True, 'öksürük şurubu', 'şurup', 10, 1)\n",
      "(106, 'Metpamid', 12.0, True, 'bulantı şurubu', 'şurup', 10, 1)\n",
      "(107, 'Naprosyn', 47.0, True, 'romatizma ilacı', 'tablet', 20, 1)\n",
      "(108, 'Aspirin', 1.0, True, 'ağrı kesici', 'tablet', 35, 1)\n",
      "(109, 'Corasbin', 17.0, True, 'kan sulandırıcı', 'tablet', 20, 1)\n",
      "(110, 'Voltaren Emulgel', 48.0, True, 'romatizma ilacı', 'jel', 10, 1)\n",
      "(111, 'Ocuvite Complete', 22.0, True, 'göz vitamini', 'tablet', 10, 1)\n",
      "(112, 'Otrivin', 16.0, True, 'burun spreyi', 'sprey', 20, 1)\n",
      "(113, 'Benexol b12', 10.0, True, 'vitamin ilacı', 'tablet', 35, 1)\n",
      "(114, 'Asiviral Krem', 10.0, True, 'uçuk kremi', 'krem', 20, 1)\n",
      "(115, 'Terramycin', 13.0, True, 'yara merhemi', 'krem', 10, 1)\n",
      "(116, 'Siprogut', 9.0, True, 'kulak damlası', 'damla', 10, 1)\n",
      "(117, 'Glifor', 19.0, True, 'şeker ilacı', 'tablet', 10, 1)\n",
      "(118, 'Ritalin', 30.0, False, 'uyuşturucu', 'tablet', 10, 1)\n",
      "(119, 'Medikinet Retart', 40.0, False, 'uyuşturucu', 'tablet', 20, 1)\n",
      "(120, 'Prozac', 30.0, False, 'sakinleştirici', 'tablet', 10, 1)\n"
     ]
    }
   ],
   "source": [
    "conx = pyodbc.connect(conx_string)\n",
    "cursor = conx.cursor()\n",
    "cursor.execute(query3)\n",
    "data = cursor.fetchall()\n",
    "\n",
    "for d in data:\n",
    "    print(d)"
   ]
  },
  {
   "cell_type": "markdown",
   "id": "e2fe2755",
   "metadata": {},
   "source": [
    "### EMPLOYEE"
   ]
  },
  {
   "cell_type": "code",
   "execution_count": 9,
   "id": "c42b0968",
   "metadata": {},
   "outputs": [
    {
     "name": "stdout",
     "output_type": "stream",
     "text": [
      "(11111, 'Esra', 'Eryılmaz', '535-45-45', 2, 'Eczacı', 1)\n",
      "(22222, 'Hasan', 'Eryılmaz', '555-12-12', 24, 'Müdür', 1)\n",
      "(33333, 'Dilek', 'Eryılmaz', '545-67-67', 22, 'Muhasebeci', 1)\n",
      "(44444, 'Utku', 'Eryılmaz', '535-55-55', 1, 'Kalfa', 1)\n"
     ]
    }
   ],
   "source": [
    "conx = pyodbc.connect(conx_string)\n",
    "cursor = conx.cursor()\n",
    "cursor.execute(query4)\n",
    "data = cursor.fetchall()\n",
    "\n",
    "for d in data:\n",
    "    print(d)"
   ]
  },
  {
   "cell_type": "markdown",
   "id": "8f4750a2",
   "metadata": {},
   "source": [
    "### COMPANY"
   ]
  },
  {
   "cell_type": "code",
   "execution_count": 10,
   "id": "45902791",
   "metadata": {
    "scrolled": true
   },
   "outputs": [
    {
     "name": "stdout",
     "output_type": "stream",
     "text": [
      "(500, 'Novartis', '+8-67-431', 'İsviçre', 'Basel', 11)\n",
      "(501, 'Pfizer', '+7-23-135', 'ABD', 'New York', 22)\n",
      "(502, 'Abdi İbrahim', '+9-43-12-432', 'Türkiye', 'İstanbul', 34)\n",
      "(503, 'gsk', '+4-23-21-777', 'İngiltere', 'Londra', 44)\n",
      "(504, 'Bayer', '+5-90-654', 'Almanya', 'Leverkusen', 55)\n",
      "(505, 'Nobel', '+9-32-456', 'Türkiye', 'İstanbul', 34)\n",
      "(506, 'Sanovel', '+9-55-990', 'Türkiye', 'İstanbul', 34)\n",
      "(507, 'Sandoz', '+8-34-542', 'İsviçre', 'Basel', 11)\n",
      "(508, 'Berko', '+9-43-21-111', 'Türkiye', 'İstanbul', 34)\n",
      "(509, 'Sanofi', '+3-55-666', 'Fransa', 'Paris', 66)\n"
     ]
    }
   ],
   "source": [
    "# conx = pyodbc.connect(conx_string)\n",
    "cursor = conx.cursor()\n",
    "cursor.execute(query5)\n",
    "data = cursor.fetchall()\n",
    "\n",
    "for d in data:\n",
    "    print(d)"
   ]
  },
  {
   "cell_type": "markdown",
   "id": "d1631719",
   "metadata": {},
   "source": [
    "### DOCTOR"
   ]
  },
  {
   "cell_type": "code",
   "execution_count": 11,
   "id": "7d61f4c1",
   "metadata": {},
   "outputs": [
    {
     "name": "stdout",
     "output_type": "stream",
     "text": [
      "(10, 'Mehmet', 'Öz', '777777', 'Genel Cerrahi', 1, '2016-06-10')\n",
      "(11, 'Ayşe', 'Demir', '666666', 'Göz Hastalıkları', 1, '2014-01-05')\n",
      "(12, 'Ali', 'Arslan', '555555', 'Dahiliye', 1, '2018-02-15')\n",
      "(13, 'Meryem', 'Çelik', '444444', 'Kadın Hastalıkları', 1, '2015-10-18')\n",
      "(14, 'Ahmet', 'Yılmaz', '333333', 'Çocuk Hastalıkları', 1, '2017-05-01')\n",
      "(15, 'Manolya', 'Kaya', '222222', 'Psikiyatri', 1, '2020-09-09')\n",
      "(16, 'Burak', 'Saz', '111111', 'KBB', 1, '2021-12-22')\n",
      "(17, 'Hatice', 'Koç', '888888', 'Endokrinoloji', 1, '2015-03-13')\n",
      "(18, 'Deniz', 'Yurt', '999999', 'Dermatoloji', 1, '2021-07-20')\n",
      "(19, 'Yaprak', 'Şahin', '111000', 'Ortopedi', 1, '2022-06-10')\n"
     ]
    }
   ],
   "source": [
    "conx = pyodbc.connect(conx_string)\n",
    "cursor = conx.cursor()\n",
    "cursor.execute(query6)\n",
    "data = cursor.fetchall()\n",
    "\n",
    "for d in data:\n",
    "    print(d)"
   ]
  },
  {
   "cell_type": "code",
   "execution_count": null,
   "id": "3a833449-7def-42d7-82d5-4eade031e2b3",
   "metadata": {},
   "outputs": [],
   "source": []
  },
  {
   "cell_type": "markdown",
   "id": "0ef353f2",
   "metadata": {},
   "source": [
    "### CUSTOMER"
   ]
  },
  {
   "cell_type": "code",
   "execution_count": 12,
   "id": "312ff6b5",
   "metadata": {},
   "outputs": [
    {
     "name": "stdout",
     "output_type": "stream",
     "text": [
      "(1000, 'Yaprak Şahin', '555-666', 'Kadıköy', 30, 10)\n",
      "(1001, 'Safiye Derenoğlu', '222-333', 'Beyoğlu', 31, 15)\n",
      "(1002, 'Sevgi Akın', '111-222', 'Tuzla', 32, 11)\n",
      "(1003, 'Yusuf Yıldız', '999-999', 'Üsküdar', 33, 15)\n",
      "(1004, 'Fatma Kara', '333-555', 'Şişli', 34, 19)\n",
      "(1005, 'Mustafa Çetin', '444-111', 'Beykoz', 35, 17)\n",
      "(1006, 'Emine Kılıç', '999-000', 'Ataşehir', 36, 13)\n",
      "(1007, 'Zeynep Yıldırım', '777-555', 'Bakırköy', 37, 12)\n",
      "(1008, 'Gülben Derenoğlu', '888-222', 'Ümraniye', 38, 15)\n",
      "(1009, 'Onur Yılmaz', '111-999', 'Üsküdar', 39, 16)\n"
     ]
    }
   ],
   "source": [
    "conx = pyodbc.connect(conx_string)\n",
    "cursor = conx.cursor()\n",
    "cursor.execute(query7)\n",
    "data = cursor.fetchall()\n",
    "\n",
    "for d in data:\n",
    "    print(d)"
   ]
  },
  {
   "cell_type": "markdown",
   "id": "8b470c88",
   "metadata": {},
   "source": [
    "### Show medicines which will expire before '2025-05-05'\n",
    "#### query8 = \"SELECT MEDICINE.Name FROM MEDICINE LEFT JOIN PRODUCTION ON MEDICINE.Barcode = PRODUCTION. Barcode Where PRODUCTION.Last_use_date <'2025-05-05'\""
   ]
  },
  {
   "cell_type": "code",
   "execution_count": 13,
   "id": "e72a348a",
   "metadata": {},
   "outputs": [
    {
     "name": "stdout",
     "output_type": "stream",
     "text": [
      "('Sebamed', )\n",
      "('Norvasc', )\n",
      "('Ocuvite Complete', )\n",
      "('Otrivin', )\n",
      "('Benexol b12', )\n",
      "('Medikinet Retart', )\n",
      "('Prozac', )\n"
     ]
    }
   ],
   "source": [
    "conx = pyodbc.connect(conx_string)\n",
    "cursor = conx.cursor()\n",
    "cursor.execute(query8)\n",
    "data = cursor.fetchall()\n",
    "\n",
    "for d in data:\n",
    "    print(d)"
   ]
  },
  {
   "cell_type": "code",
   "execution_count": null,
   "id": "138165ff",
   "metadata": {},
   "outputs": [],
   "source": [
    " ##  zaten view var o yüzden çalıştırmaya gerek yok sonradan\n",
    "conx = pyodbc.connect(conx_string)\n",
    "cursor = conx.cursor()\n",
    "cursor.execute(query9)\n",
    "data = cursor.fetchall()\n",
    "\n",
    "for d in data:\n",
    "    print(d)"
   ]
  },
  {
   "cell_type": "markdown",
   "id": "4bd353dc",
   "metadata": {},
   "source": [
    "####  VIEW EXAMPLE    view of customers' informations with their doctors\n",
    "#####  query10 = \"SELECT * FROM view1;\""
   ]
  },
  {
   "cell_type": "code",
   "execution_count": 16,
   "id": "45a8c3e8",
   "metadata": {},
   "outputs": [
    {
     "name": "stdout",
     "output_type": "stream",
     "text": [
      "('Mehmet', 'Öz', '777777', 'Genel Cerrahi', 'Yaprak Şahin', 'Kadıköy', '555-666')\n",
      "('Manolya', 'Kaya', '222222', 'Psikiyatri', 'Safiye Derenoğlu', 'Beyoğlu', '222-333')\n",
      "('Ayşe', 'Demir', '666666', 'Göz Hastalıkları', 'Sevgi Akın', 'Tuzla', '111-222')\n",
      "('Manolya', 'Kaya', '222222', 'Psikiyatri', 'Yusuf Yıldız', 'Üsküdar', '999-999')\n",
      "('Yaprak', 'Şahin', '111000', 'Ortopedi', 'Fatma Kara', 'Şişli', '333-555')\n",
      "('Hatice', 'Koç', '888888', 'Endokrinoloji', 'Mustafa Çetin', 'Beykoz', '444-111')\n",
      "('Meryem', 'Çelik', '444444', 'Kadın Hastalıkları', 'Emine Kılıç', 'Ataşehir', '999-000')\n",
      "('Ali', 'Arslan', '555555', 'Dahiliye', 'Zeynep Yıldırım', 'Bakırköy', '777-555')\n",
      "('Manolya', 'Kaya', '222222', 'Psikiyatri', 'Gülben Derenoğlu', 'Ümraniye', '888-222')\n",
      "('Burak', 'Saz', '111111', 'KBB', 'Onur Yılmaz', 'Üsküdar', '111-999')\n"
     ]
    }
   ],
   "source": [
    "conx = pyodbc.connect(conx_string)\n",
    "cursor = conx.cursor()\n",
    "cursor.execute(query10)\n",
    "data = cursor.fetchall()\n",
    "\n",
    "for d in data:\n",
    "    print(d)"
   ]
  },
  {
   "cell_type": "code",
   "execution_count": 17,
   "id": "1d4ebd1f",
   "metadata": {},
   "outputs": [
    {
     "name": "stdout",
     "output_type": "stream",
     "text": [
      "(1000, 'Yaprak Şahin', '555-666', 'Kadıköy', 30, 10)\n",
      "(1001, 'Safiye Derenoğlu', '222-333', 'Beyoğlu', 31, 15)\n",
      "(1002, 'Sevgi Akın', '111-222', 'Tuzla', 32, 11)\n",
      "(1003, 'Yusuf Yıldız', '999-999', 'Üsküdar', 33, 15)\n",
      "(1004, 'Fatma Kara', '333-555', 'Şişli', 34, 19)\n",
      "(1005, 'Mustafa Çetin', '444-111', 'Beykoz', 35, 17)\n",
      "(1006, 'Emine Kılıç', '999-000', 'Ataşehir', 36, 13)\n",
      "(1007, 'Zeynep Yıldırım', '777-555', 'Bakırköy', 37, 12)\n",
      "(1008, 'Gülben Derenoğlu', '888-222', 'Ümraniye', 38, 15)\n",
      "(1009, 'Onur Yılmaz', '111-999', 'Üsküdar', 39, 16)\n"
     ]
    }
   ],
   "source": [
    "## query7 = \"SELECT * FROM CUSTOMER\"\n",
    "conx = pyodbc.connect(conx_string)\n",
    "cursor = conx.cursor()\n",
    "cursor.execute(query7)\n",
    "data = cursor.fetchall()\n",
    "\n",
    "for d in data:\n",
    "    print(d)"
   ]
  },
  {
   "cell_type": "code",
   "execution_count": 18,
   "id": "73803703-90b1-462c-bfd9-4c5b9542e5ad",
   "metadata": {},
   "outputs": [
    {
     "name": "stdout",
     "output_type": "stream",
     "text": [
      "(10, 'Mehmet', 'Öz', '777777', 'Genel Cerrahi', 1, '2016-06-10')\n",
      "(11, 'Ayşe', 'Demir', '666666', 'Göz Hastalıkları', 1, '2014-01-05')\n",
      "(12, 'Ali', 'Arslan', '555555', 'Dahiliye', 1, '2018-02-15')\n",
      "(13, 'Meryem', 'Çelik', '444444', 'Kadın Hastalıkları', 1, '2015-10-18')\n",
      "(14, 'Ahmet', 'Yılmaz', '333333', 'Çocuk Hastalıkları', 1, '2017-05-01')\n",
      "(15, 'Manolya', 'Kaya', '222222', 'Psikiyatri', 1, '2020-09-09')\n",
      "(16, 'Burak', 'Saz', '111111', 'KBB', 1, '2021-12-22')\n",
      "(17, 'Hatice', 'Koç', '888888', 'Endokrinoloji', 1, '2015-03-13')\n",
      "(18, 'Deniz', 'Yurt', '999999', 'Dermatoloji', 1, '2021-07-20')\n",
      "(19, 'Yaprak', 'Şahin', '111000', 'Ortopedi', 1, '2022-06-10')\n"
     ]
    }
   ],
   "source": [
    "## query6 = \"SELECT * FROM DOCTOR\"\n",
    "conx = pyodbc.connect(conx_string)\n",
    "cursor = conx.cursor()\n",
    "cursor.execute(query6)\n",
    "data = cursor.fetchall()\n",
    "\n",
    "for d in data:\n",
    "    print(d)"
   ]
  },
  {
   "cell_type": "code",
   "execution_count": null,
   "id": "a79f9a39-f356-4a71-b79b-6cba1c0f07f0",
   "metadata": {},
   "outputs": [],
   "source": []
  }
 ],
 "metadata": {
  "kernelspec": {
   "display_name": "Python 3 (ipykernel)",
   "language": "python",
   "name": "python3"
  },
  "language_info": {
   "codemirror_mode": {
    "name": "ipython",
    "version": 3
   },
   "file_extension": ".py",
   "mimetype": "text/x-python",
   "name": "python",
   "nbconvert_exporter": "python",
   "pygments_lexer": "ipython3",
   "version": "3.8.1"
  }
 },
 "nbformat": 4,
 "nbformat_minor": 5
}
